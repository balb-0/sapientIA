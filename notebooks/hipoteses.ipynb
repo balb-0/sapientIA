{
  "cells": [
    {
      "cell_type": "markdown",
      "metadata": {
        "id": "XctaxjfI_ECa"
      },
      "source": [
        "# Hipóteses\n",
        "Uma hipótese é uma suposição ou proposta que se faz com base em informações limitadas, com o objetivo de investigar uma possível relação entre variáveis ou fenômenos. No contexto de análise de dados, uma hipótese serve como ponto de partida para explorar como diferentes elementos de uma tabela podem estar conectados ao problema em questão, como a imprevisibilidade de renda. A hipótese estabelece uma relação esperada entre os dados, que pode ser testada e validada (ou refutada) através de métodos estatísticos e análise de dados. Isso permite entender melhor as dinâmicas que influenciam a variabilidade da renda e buscar soluções mais eficazes."
      ]
    },
    {
      "cell_type": "markdown",
      "metadata": {
        "id": "tFnbzxokHd0R"
      },
      "source": [
        "**Importação da base de dados através da biblioteca gdown**\n"
      ]
    },
    {
      "cell_type": "markdown",
      "metadata": {},
      "source": [
        "\n",
        "**Utilizando o gdown para Conectar com a Base de Dados**\n",
        "\n",
        "O `gdown` é uma ferramenta útil para fazer o download de arquivos diretamente do Google Drive utilizando a linha de comando. Ele facilita a transferência de arquivos hospedados no Google Drive para o ambiente local, permitindo que sejam utilizados em análises e projetos de dados.\n",
        "\n",
        "Para conectar e baixar os arquivos da base de dados, utilizamos os seguintes passos:\n",
        "\n",
        "1. **Instalação do gdown**: Primeiro, instalamos o `gdown` utilizando o comando `!pip install gdown`. Isso garante que a ferramenta esteja disponível no ambiente Jupyter Notebook.\n",
        "\n",
        "2. **Definição dos IDs dos arquivos**: Cada arquivo no Google Drive possui um ID único. Definimos os IDs dos arquivos que queremos baixar (`file_id1` e `file_id2`).\n",
        "\n",
        "3. **Construção das URLs de download**: Utilizamos os IDs dos arquivos para construir as URLs de download (`url` e `url2`).\n",
        "\n",
        "4. **Download dos arquivos**: Utilizamos o `gdown.download()` para baixar os arquivos especificados pelas URLs. Os arquivos são salvos localmente com os nomes `base_01_agosto` e `base_dia_31_julho`.\n",
        "\n",
        "Com esses passos, os arquivos são baixados e podem ser carregados em dataframes pandas para análise posterior.\n"
      ]
    },
    {
      "cell_type": "code",
      "execution_count": null,
      "metadata": {},
      "outputs": [],
      "source": [
        "#instalação da biblioteca necessária\n",
        "!pip install gdown"
      ]
    },
    {
      "cell_type": "code",
      "execution_count": null,
      "metadata": {
        "colab": {
          "base_uri": "https://localhost:8080/"
        },
        "id": "rf0XiRfpHhlb",
        "outputId": "f4b9e55b-dabd-493b-a601-ee3e09cee738"
      },
      "outputs": [],
      "source": [
        "# - baixando o gdown para conseguir fazer do download do arquivo\n",
        "\n",
        "!pip install gdown"
      ]
    },
    {
      "cell_type": "code",
      "execution_count": null,
      "metadata": {},
      "outputs": [],
      "source": [
        "\n",
        "import gdown\n",
        "\n",
        "file_id1 = '1NcEwzYcpzceVJbSfnZ7qD3zHyqWp1v-5'\n",
        "file_id2 = '1bxy-1s7VN6OT31esBt_IZdOzJVCYY0AZ'\n",
        "url = f'https://drive.google.com/uc?id={file_id1}'\n",
        "url2 = f'https://drive.google.com/uc?id={file_id2}'\n",
        "\n",
        "# - https://docs.google.com/spreadsheets/d/1NcEwzYcpzceVJbSfnZ7qD3zHyqWp1v-5/edit?usp=sharing&ouid=114380254363966734810&rtpof=true&sd=true\n",
        "# - https://docs.google.com/spreadsheets/d/1bxy-1s7VN6OT31esBt_IZdOzJVCYY0AZ/edit?usp=sharing&ouid=114380254363966734810&rtpof=true&sd=true\n",
        "\n",
        "# Baixar o arquivo\n",
        "gdown.download(url, 'base_01_agosto', quiet=False)\n",
        "gdown.download(url2, 'base_dia_31_julho', quiet=False)\n"
      ]
    },
    {
      "cell_type": "markdown",
      "metadata": {
        "id": "7wiUTAhvHJuw"
      },
      "source": [
        "### Importando as bibliotecas"
      ]
    },
    {
      "cell_type": "code",
      "execution_count": 13,
      "metadata": {
        "id": "CSU6JTbQHEO9"
      },
      "outputs": [],
      "source": [
        "import pandas as pd\n",
        "import numpy as np\n",
        "import matplotlib.pyplot as plt"
      ]
    },
    {
      "cell_type": "markdown",
      "metadata": {
        "id": "SjNgmqNrHRbu"
      },
      "source": [
        "### Leitura das bases de dados que serão utilizadas"
      ]
    },
    {
      "cell_type": "code",
      "execution_count": 21,
      "metadata": {
        "id": "yxIHhY8vHTrt"
      },
      "outputs": [],
      "source": [
        "df1 = pd.read_excel(\"base_01_agosto\")\n",
        "df2 = pd.read_excel(\"base_dia_31_julho\")"
      ]
    },
    {
      "cell_type": "markdown",
      "metadata": {
        "id": "fsE9tpwLQow3"
      },
      "source": [
        "Modificações na tabela"
      ]
    },
    {
      "cell_type": "code",
      "execution_count": 6,
      "metadata": {
        "id": "4saHlR0FREpZ"
      },
      "outputs": [],
      "source": [
        "#Drop das colunas que não estão presentes em ambos os DataFrames\n",
        "df1 = df1.drop(columns=['IPCA ES', 'IPCA BR', '% Ating. Meta', 'Taxa Ac. TRI % PIB', 'CONCATENAR', 'Cliente', 'Origem', 'Desconto R$', 'Desc %', 'Vl Bruto', 'VL Tabela']) \n",
        "df2 = df2.drop(columns=['Cliente', 'Origem', 'Desconto R$', 'Desc %', 'Vl Bruto', 'VL Tabela'])"
      ]
    },
    {
      "cell_type": "code",
      "execution_count": 7,
      "metadata": {
        "id": "YMhNTwJ7hM6o"
      },
      "outputs": [],
      "source": [
        "df2['day'] = 1 # Adição da coluna com informação dos dias\n",
        "df2 = df2.rename(columns={\"ano\":\"year\",\"Mês\":\"month\"}) # Renomeando para inglês as colunas\n",
        "df2['Mês/ano'] = pd.to_datetime(df2[['year', 'month', 'day']]) # Formatação da data para o padrão datetime\n",
        "df2 = df2.drop(columns=['year', 'month','day'])\n",
        "df1 = df1.drop(columns={'Mês', 'Ano'}) # Drop das colunas já utilizadas\n",
        "\n",
        "df1_df2 = pd.concat([df1,df2], ignore_index=True) # Concatenação dos DataFrames\n",
        "\n",
        "df1_df2 = df1_df2.drop_duplicates() # Remoção das informações repetidas\n",
        "\n",
        "df1_df2 = df1_df2.dropna(subset=['Setor']) # Remoção dos valores nulos da coluna \"Setor\"\n",
        "\n",
        "df1_df2['VL Liquido Log'] = np.log10(df1_df2['Vl Liquido Final']) # Criação da coluna com os valores da tabela em log\n",
        "\n",
        "df1_df2_date = df1_df2\n",
        "\n",
        "df1_df2_date['year'] = df1_df2_date['Mês/ano'].dt.year # Transformação da data de uma coluna em data de colunas separadas\n",
        "df1_df2_date['month'] = df1_df2_date['Mês/ano'].dt.month\n",
        "df1_df2_date.set_index(['year','month'], inplace=True) # Colocação das datas como index da tabela\n",
        "df1_df2_date.sort_index(level=[0, 1], inplace=True) # Adicionando as datas na ordem correta\n",
        "\n",
        "df1_df2_date['VL Liquido Log'] = np.log10(df1_df2_date['Vl Liquido Final'])\n",
        "\n"
      ]
    },
    {
      "cell_type": "code",
      "execution_count": 8,
      "metadata": {
        "id": "zC21fO2lE8TP"
      },
      "outputs": [],
      "source": [
        "df_2020 = df1_df2_date.loc[2020]\n",
        "df_2021 = df1_df2_date.loc[2021]\n",
        "df_2022 = df1_df2_date.loc[2022]\n",
        "df_2023 = df1_df2_date.loc[2023]"
      ]
    },
    {
      "cell_type": "markdown",
      "metadata": {
        "id": "gBzk8MUO_2hl"
      },
      "source": [
        "## Hipótese 1: Número de contratos em relação aos meses\n",
        "\n",
        "A quantidade de contratos assinados por mês tem uma correlação direta com a receita futura da Rede Gazeta, especialmente em meses de alta demanda publicitária, como períodos de eventos sazonais. Acredita-se que meses com maior volume de contratos, principalmente contratos de grande porte com clientes estratégicos, resultam em um aumento significativo da receita líquida da empresa. Além disso, meses com menor número de contratos não necessariamente indicam uma queda proporcional na receita, uma vez que a distribuição e a concentração de contratos em certos períodos podem criar fluxos de receita menos lineares, mas ainda relevantes para as projeções financeiras da empresa\n"
      ]
    },
    {
      "cell_type": "code",
      "execution_count": null,
      "metadata": {
        "colab": {
          "base_uri": "https://localhost:8080/",
          "height": 1000
        },
        "id": "n5qLuLYLR9yx",
        "outputId": "f23ca3e4-73e7-4e6b-9ce2-ff7d08f3ae34"
      },
      "outputs": [],
      "source": [
        "# Definindo a função plot_uen_by_year com o rótulo do eixo Y ajustado\n",
        "def plot_uen_by_year(year, ax, y_max):\n",
        "    df_year = df1_df2_date.loc[year]\n",
        "    uen_count = df_year.groupby(['month', 'UEN']).size().unstack()\n",
        "    uen_count.plot(kind='bar', ax=ax, title=f'Número de contratos por Mês e UEN em {year}')\n",
        "\n",
        "    ax.grid(True, which='both', axis='both', linestyle='--', linewidth=0.7)\n",
        "\n",
        "    # Definir limite do eixo Y\n",
        "    ax.set_ylim(0, y_max)\n",
        "\n",
        "    # Definir o rótulo do eixo Y\n",
        "    ax.set_ylabel('número de contratos')\n",
        "\n",
        "# Determinar o valor máximo do eixo Y com base no maior valor nos dados\n",
        "y_max = df1_df2_date.groupby(['year', 'month', 'UEN']).size().max() + 50\n",
        "\n",
        "# Criar um grid de subplots de 2x2\n",
        "fig, axs = plt.subplots(2, 2, figsize=(12, 10))\n",
        "\n",
        "# Gerar gráficos para os anos de 2020 a 2023\n",
        "plot_uen_by_year(2020, axs[0, 0], y_max)\n",
        "plot_uen_by_year(2021, axs[0, 1], y_max)\n",
        "plot_uen_by_year(2022, axs[1, 0], y_max)\n",
        "plot_uen_by_year(2023, axs[1, 1], y_max)\n",
        "\n",
        "# Mostrar os gráficos\n",
        "plt.tight_layout()\n",
        "plt.show()"
      ]
    },
    {
      "cell_type": "markdown",
      "metadata": {
        "id": "9jRjrg7CCKS2"
      },
      "source": [
        "## Hipótese 2: Valores de contratos em relação aos meses\n",
        "O valor médio dos contratos assinados por mês tem uma influência direta e significativa na previsão da receita futura da Rede Gazeta. Meses com contratos de maior valor, impulsionados por grandes campanhas publicitárias ou acordos com clientes de alto perfil, tendem a elevar substancialmente a receita projetada para esses períodos. Em contrapartida, mesmo que o volume de contratos seja elevado, meses com um valor médio de contrato mais baixo podem resultar em uma receita futura inferior às expectativas. Ao combinar essa análise com a quantidade de contratos por mês, conforme explorado na primeira hipótese, é possível obter uma visão mais completa e robusta dos fatores que influenciam a receita futura da empresa, melhorando a precisão das projeções financeiras."
      ]
    },
    {
      "cell_type": "code",
      "execution_count": null,
      "metadata": {
        "colab": {
          "base_uri": "https://localhost:8080/",
          "height": 1000
        },
        "id": "780593KcUIWf",
        "outputId": "cc761369-ccd3-4dec-afd5-18dbc39d872c"
      },
      "outputs": [],
      "source": [
        "# Definindo a função plot_mean_value_by_year para plotar os gráficos de média dos valores de contratos\n",
        "def plot_mean_value_by_year(year, ax, y_max):\n",
        "    df_year = df1_df2_date.loc[year]\n",
        "    mean_values = df_year.groupby(['UEN', 'month'])['Vl Liquido Final'].mean().unstack()\n",
        "\n",
        "    # Criar o gráfico de barras\n",
        "    mean_values.plot(kind='bar', ax=ax, title=f'Valor Médio dos Contratos(R$) por UEN e Mês em {year}')\n",
        "\n",
        "    # Adicionar grid\n",
        "    ax.grid(True, which='both', axis='both', linestyle='--', linewidth=0.7)\n",
        "\n",
        "    # Definir limite do eixo Y\n",
        "    ax.set_ylim(0, y_max)\n",
        "\n",
        "    # Definir o rótulo do eixo Y\n",
        "    ax.set_ylabel('Valor Médio dos Contratos')\n",
        "\n",
        "# Determinar o valor máximo do eixo Y com base no maior valor nos dados\n",
        "y_max = df1_df2_date.groupby(['year', 'month', 'UEN'])['Vl Liquido Final'].mean().max() + 2500\n",
        "\n",
        "# Criar um grid de subplots de 2x2\n",
        "fig, axs = plt.subplots(2, 2, figsize=(15, 15))\n",
        "\n",
        "# Gerar gráficos para os anos de 2020 a 2023\n",
        "plot_mean_value_by_year(2020, axs[0, 0], y_max)\n",
        "plot_mean_value_by_year(2021, axs[0, 1], y_max)\n",
        "plot_mean_value_by_year(2022, axs[1, 0], y_max)\n",
        "plot_mean_value_by_year(2023, axs[1, 1], y_max)\n",
        "\n",
        "# Mostrar os gráficos\n",
        "plt.tight_layout()\n",
        "plt.show()"
      ]
    },
    {
      "cell_type": "markdown",
      "metadata": {
        "id": "QrLReMK5DjDT"
      },
      "source": [
        "## Hipótese 3: Renda em relação a Unidade de négocios\n",
        "\n",
        "A variação de receita entre as diferentes Unidades Estratégicas de Negócio (UEN) — TV, rádio e digital — exerce um impacto crucial na projeção das receitas futuras da Rede Gazeta. Cada UEN apresenta padrões específicos de variação ao longo dos anos, o que pode afetar significativamente a previsão global de receita. Por exemplo, a unidade de TV tende a gerar uma receita mais concentrada em determinados períodos do ano, como em grandes eventos ou campanhas publicitárias televisivas, enquanto a unidade de rádio pode apresentar uma receita mais constante, com picos em meses de maior audiência. A unidade digital, por sua vez, pode ser mais suscetível a rápidas mudanças de mercado, com uma variação de receita acelerada, impactada por tendências de consumo online ou novas oportunidades de publicidade digital.\n",
        "Ao observar essas flutuações de receita entre as UENs, fica evidente que cada uma tem um papel distinto na composição da receita total da empresa. Essa análise é essencial não apenas para entender a distribuição de renda, mas também para aprimorar as previsões financeiras, permitindo ajustes mais precisos com base no desempenho específico de cada unidade. Complementando as hipóteses anteriores sobre o número e o valor dos contratos, essa abordagem oferece uma visão mais granular sobre como diferentes áreas da empresa contribuem para o resultado financeiro global.\n",
        "\n"
      ]
    },
    {
      "cell_type": "code",
      "execution_count": null,
      "metadata": {
        "colab": {
          "base_uri": "https://localhost:8080/",
          "height": 472
        },
        "id": "jHvO_7rjUUsw",
        "outputId": "6ea24da8-12d6-4fdc-ce4f-a2225f68ca9e"
      },
      "outputs": [],
      "source": [
        "from matplotlib.ticker import FuncFormatter\n",
        "\n",
        "# Função para formatar os valores do eixo Y em milhões\n",
        "def millions(x, pos):\n",
        "    return '%1.1fM' % (x * 1e-6)\n",
        "\n",
        "# Valores médios de contratos por UEN para diferentes anos\n",
        "mean_values_by_uen_2023 = df_2023.groupby('UEN')['Vl Liquido Final'].sum()\n",
        "mean_values_by_uen_2022 = df_2022.groupby('UEN')['Vl Liquido Final'].sum()\n",
        "mean_values_by_uen_2021 = df_2021.groupby('UEN')['Vl Liquido Final'].sum()\n",
        "mean_values_by_uen_2020 = df_2020.groupby('UEN')['Vl Liquido Final'].sum()\n",
        "\n",
        "# Criar o array de posições para cada grupo de barras\n",
        "bar_width = 0.2\n",
        "r1 = np.arange(len(mean_values_by_uen_2023))\n",
        "r2 = [x + bar_width for x in r1]\n",
        "r3 = [x + bar_width for x in r2]\n",
        "r4 = [x + bar_width for x in r3]\n",
        "\n",
        "# Plotar as barras lado a lado\n",
        "plt.bar(r1, mean_values_by_uen_2023, color='skyblue', width=bar_width, edgecolor='grey', label='2023')\n",
        "plt.bar(r2, mean_values_by_uen_2022, color='purple', width=bar_width, edgecolor='grey', label='2022')\n",
        "plt.bar(r3, mean_values_by_uen_2021, color='#fe7f9c', width=bar_width, edgecolor='grey', label='2021')\n",
        "plt.bar(r4, mean_values_by_uen_2020, color='red', width=bar_width, edgecolor='grey', label='2020')\n",
        "# Adicionar título e labels\n",
        "plt.title('Total de Valor dos Contratos por UEN em R$')\n",
        "plt.xlabel('UEN')\n",
        "plt.ylabel('Total de Valor dos Contratos')\n",
        "plt.xticks([r + bar_width for r in range(len(mean_values_by_uen_2023))], mean_values_by_uen_2023.index)\n",
        "\n",
        "# Adicionar grid e legenda\n",
        "plt.grid(True, which='both', axis='y', linestyle='--', linewidth=0.7)\n",
        "plt.legend()\n",
        "\n",
        "# Definir o formatador de escala do eixo Y\n",
        "plt.gca().yaxis.set_major_formatter(FuncFormatter(millions))\n",
        "\n",
        "# Mostrar o gráfico\n",
        "plt.show()"
      ]
    },
    {
      "cell_type": "markdown",
      "metadata": {
        "id": "gRFeREeVODDL"
      },
      "source": [
        "## Conclusão\n",
        "\n",
        "A análise das hipóteses demonstra como diferentes aspectos dos contratos afetam a previsibilidade da renda de uma empresa. A variação no número e nos valores dos contratos ao longo dos meses, bem como a distribuição entre unidades de negócio, como televisão, rádio e digital, são fatores que podem tornar a receita imprevisível e dificultar o planejamento financeiro.\n",
        "\n",
        "Para mitigar esses riscos, é essencial estabilizar o número de contratos, controlar as oscilações nos valores e diversificar as fontes de receita entre as unidades de negócio. Monitorar essas variáveis permite criar estratégias que garantam uma gestão financeira mais estável e um crescimento sustentável."
      ]
    }
  ],
  "metadata": {
    "colab": {
      "provenance": []
    },
    "kernelspec": {
      "display_name": "Python 3",
      "name": "python3"
    },
    "language_info": {
      "codemirror_mode": {
        "name": "ipython",
        "version": 3
      },
      "file_extension": ".py",
      "mimetype": "text/x-python",
      "name": "python",
      "nbconvert_exporter": "python",
      "pygments_lexer": "ipython3",
      "version": "3.11.9"
    }
  },
  "nbformat": 4,
  "nbformat_minor": 0
}
